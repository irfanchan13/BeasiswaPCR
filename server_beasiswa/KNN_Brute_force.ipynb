{
  "cells": [
    {
      "cell_type": "markdown",
      "metadata": {
        "id": "cFgYINkTvD86"
      },
      "source": [
        "# Klasifikasi Menggunakan K-Nearest Neighbor dengan Brute Force"
      ]
    },
    {
      "cell_type": "markdown",
      "metadata": {
        "id": "FfLFy5EpvD8_"
      },
      "source": [
        "# Import Modul"
      ]
    },
    {
      "cell_type": "code",
      "execution_count": 1,
      "metadata": {
        "id": "zAk0bDqNvD8_"
      },
      "outputs": [],
      "source": [
        "## Importing Libraries\n",
        "import numpy as np\n",
        "import matplotlib.pyplot as plt\n",
        "from sklearn import preprocessing\n",
        "import seaborn as sns\n",
        "from sklearn.metrics import confusion_matrix\n",
        "from sklearn.model_selection import train_test_split\n",
        "from sklearn import preprocessing\n",
        "import pandas as pd\n",
        "from sklearn.preprocessing import StandardScaler\n",
        "from sklearn.preprocessing import LabelEncoder\n",
        "from sklearn.neighbors import KNeighborsClassifier\n",
        "import pickle"
      ]
    },
    {
      "cell_type": "markdown",
      "metadata": {
        "id": "qVd2LTycvD9B"
      },
      "source": [
        "# Import Dataset"
      ]
    },
    {
      "cell_type": "code",
      "execution_count": 2,
      "metadata": {
        "colab": {
          "base_uri": "https://localhost:8080/",
          "height": 530
        },
        "id": "uwyTO0h0vD9B",
        "outputId": "968163d5-9064-4e3f-a0d9-4462e4755802",
        "scrolled": true
      },
      "outputs": [
        {
          "data": {
            "text/html": [
              "<div>\n",
              "<style scoped>\n",
              "    .dataframe tbody tr th:only-of-type {\n",
              "        vertical-align: middle;\n",
              "    }\n",
              "\n",
              "    .dataframe tbody tr th {\n",
              "        vertical-align: top;\n",
              "    }\n",
              "\n",
              "    .dataframe thead th {\n",
              "        text-align: right;\n",
              "    }\n",
              "</style>\n",
              "<table border=\"1\" class=\"dataframe\">\n",
              "  <thead>\n",
              "    <tr style=\"text-align: right;\">\n",
              "      <th></th>\n",
              "      <th>No</th>\n",
              "      <th>NIM</th>\n",
              "      <th>NAMA</th>\n",
              "      <th>PRODI</th>\n",
              "      <th>FAKULTAS</th>\n",
              "      <th>UKT</th>\n",
              "      <th>NILAI UKT</th>\n",
              "      <th>PENGHASILAN AYAH</th>\n",
              "      <th>PENGHASILAN IBU</th>\n",
              "      <th>TOTAL PENGHASILAN</th>\n",
              "      <th>Jumlah Anggota Keluarga (Ayah, Ibu dan Anak)</th>\n",
              "      <th>TOTAL PENGHASILAN/JUMLAH ANGGOTA KEL</th>\n",
              "      <th>STATUS AYAH</th>\n",
              "      <th>STATUS IBU</th>\n",
              "      <th>STATUS KIP</th>\n",
              "      <th>STATUS TDK MAMPU</th>\n",
              "      <th>STATUS KKS</th>\n",
              "      <th>STATUS_LULUS_KIP</th>\n",
              "    </tr>\n",
              "  </thead>\n",
              "  <tbody>\n",
              "    <tr>\n",
              "      <th>0</th>\n",
              "      <td>1</td>\n",
              "      <td>1.217052e+10</td>\n",
              "      <td>WIDYA YOLANDA</td>\n",
              "      <td>Ilmu Administrasi Negara</td>\n",
              "      <td>Ekonomi dan Ilmu Sosial</td>\n",
              "      <td>3.0</td>\n",
              "      <td>2400000.0</td>\n",
              "      <td>1500000</td>\n",
              "      <td>0</td>\n",
              "      <td>1500000</td>\n",
              "      <td>4.0</td>\n",
              "      <td>375000.0000</td>\n",
              "      <td>File Tidak Diupload</td>\n",
              "      <td>File Tidak Diupload</td>\n",
              "      <td>File Diupload</td>\n",
              "      <td>File Diupload</td>\n",
              "      <td>File Diupload</td>\n",
              "      <td>LULUS</td>\n",
              "    </tr>\n",
              "    <tr>\n",
              "      <th>1</th>\n",
              "      <td>2</td>\n",
              "      <td>1.214022e+10</td>\n",
              "      <td>MARDHEA</td>\n",
              "      <td>Bimb. Konseling Islam</td>\n",
              "      <td>Dakwah dan Komunikasi</td>\n",
              "      <td>3.0</td>\n",
              "      <td>2400000.0</td>\n",
              "      <td>1000000</td>\n",
              "      <td>0</td>\n",
              "      <td>1000000</td>\n",
              "      <td>5.0</td>\n",
              "      <td>200000.0000</td>\n",
              "      <td>File Diupload</td>\n",
              "      <td>File Diupload</td>\n",
              "      <td>File Diupload</td>\n",
              "      <td>File Diupload</td>\n",
              "      <td>File Diupload</td>\n",
              "      <td>LULUS</td>\n",
              "    </tr>\n",
              "    <tr>\n",
              "      <th>2</th>\n",
              "      <td>3</td>\n",
              "      <td>1.215021e+10</td>\n",
              "      <td>Muhammad Rozi</td>\n",
              "      <td>Teknik Industri</td>\n",
              "      <td>Sains dan Teknologi</td>\n",
              "      <td>4.0</td>\n",
              "      <td>3600000.0</td>\n",
              "      <td>3500000</td>\n",
              "      <td>0</td>\n",
              "      <td>3500000</td>\n",
              "      <td>5.0</td>\n",
              "      <td>700000.0000</td>\n",
              "      <td>File Tidak Diupload</td>\n",
              "      <td>File Tidak Diupload</td>\n",
              "      <td>File Diupload</td>\n",
              "      <td>File Diupload</td>\n",
              "      <td>File Diupload</td>\n",
              "      <td>LULUS</td>\n",
              "    </tr>\n",
              "    <tr>\n",
              "      <th>3</th>\n",
              "      <td>4</td>\n",
              "      <td>1.211032e+10</td>\n",
              "      <td>AMELIA MAWADDAH</td>\n",
              "      <td>Manajemen Pend. Islam</td>\n",
              "      <td>Tarbiyah dan Perguruan</td>\n",
              "      <td>2.0</td>\n",
              "      <td>1825000.0</td>\n",
              "      <td>700000</td>\n",
              "      <td>0</td>\n",
              "      <td>700000</td>\n",
              "      <td>6.0</td>\n",
              "      <td>116666.6667</td>\n",
              "      <td>File Tidak Diupload</td>\n",
              "      <td>File Tidak Diupload</td>\n",
              "      <td>File Diupload</td>\n",
              "      <td>File Diupload</td>\n",
              "      <td>File Diupload</td>\n",
              "      <td>LULUS</td>\n",
              "    </tr>\n",
              "    <tr>\n",
              "      <th>4</th>\n",
              "      <td>5</td>\n",
              "      <td>1.212072e+10</td>\n",
              "      <td>AMANDA NADYA RONA</td>\n",
              "      <td>Ilmu Hukum</td>\n",
              "      <td>Syari'ah dan Hukum</td>\n",
              "      <td>4.0</td>\n",
              "      <td>3200000.0</td>\n",
              "      <td>3000000</td>\n",
              "      <td>0</td>\n",
              "      <td>3000000</td>\n",
              "      <td>5.0</td>\n",
              "      <td>600000.0000</td>\n",
              "      <td>File Tidak Diupload</td>\n",
              "      <td>File Tidak Diupload</td>\n",
              "      <td>File Tidak Diupload</td>\n",
              "      <td>File Tidak Diupload</td>\n",
              "      <td>File Tidak Diupload</td>\n",
              "      <td>TIDAK LULUS</td>\n",
              "    </tr>\n",
              "  </tbody>\n",
              "</table>\n",
              "</div>"
            ],
            "text/plain": [
              "   No           NIM               NAMA                     PRODI  \\\n",
              "0   1  1.217052e+10      WIDYA YOLANDA  Ilmu Administrasi Negara   \n",
              "1   2  1.214022e+10            MARDHEA     Bimb. Konseling Islam   \n",
              "2   3  1.215021e+10      Muhammad Rozi           Teknik Industri   \n",
              "3   4  1.211032e+10    AMELIA MAWADDAH     Manajemen Pend. Islam   \n",
              "4   5  1.212072e+10  AMANDA NADYA RONA                Ilmu Hukum   \n",
              "\n",
              "                  FAKULTAS  UKT  NILAI UKT  PENGHASILAN AYAH  PENGHASILAN IBU  \\\n",
              "0  Ekonomi dan Ilmu Sosial  3.0  2400000.0           1500000                0   \n",
              "1    Dakwah dan Komunikasi  3.0  2400000.0           1000000                0   \n",
              "2      Sains dan Teknologi  4.0  3600000.0           3500000                0   \n",
              "3   Tarbiyah dan Perguruan  2.0  1825000.0            700000                0   \n",
              "4       Syari'ah dan Hukum  4.0  3200000.0           3000000                0   \n",
              "\n",
              "   TOTAL PENGHASILAN  Jumlah Anggota Keluarga (Ayah, Ibu dan Anak)  \\\n",
              "0            1500000                                           4.0   \n",
              "1            1000000                                           5.0   \n",
              "2            3500000                                           5.0   \n",
              "3             700000                                           6.0   \n",
              "4            3000000                                           5.0   \n",
              "\n",
              "   TOTAL PENGHASILAN/JUMLAH ANGGOTA KEL          STATUS AYAH  \\\n",
              "0                           375000.0000  File Tidak Diupload   \n",
              "1                           200000.0000        File Diupload   \n",
              "2                           700000.0000  File Tidak Diupload   \n",
              "3                           116666.6667  File Tidak Diupload   \n",
              "4                           600000.0000  File Tidak Diupload   \n",
              "\n",
              "            STATUS IBU           STATUS KIP     STATUS TDK MAMPU  \\\n",
              "0  File Tidak Diupload        File Diupload        File Diupload   \n",
              "1        File Diupload        File Diupload        File Diupload   \n",
              "2  File Tidak Diupload        File Diupload        File Diupload   \n",
              "3  File Tidak Diupload        File Diupload        File Diupload   \n",
              "4  File Tidak Diupload  File Tidak Diupload  File Tidak Diupload   \n",
              "\n",
              "            STATUS KKS STATUS_LULUS_KIP  \n",
              "0        File Diupload            LULUS  \n",
              "1        File Diupload            LULUS  \n",
              "2        File Diupload            LULUS  \n",
              "3        File Diupload            LULUS  \n",
              "4  File Tidak Diupload      TIDAK LULUS  "
            ]
          },
          "execution_count": 2,
          "metadata": {},
          "output_type": "execute_result"
        }
      ],
      "source": [
        "#memanggil data csv\n",
        "data = pd.read_csv('dataset/Dataset.csv', sep=',')\n",
        "data.head()"
      ]
    },
    {
      "cell_type": "markdown",
      "metadata": {
        "id": "rGAzUnF_vD9C"
      },
      "source": [
        "# Preprocessing Dataset"
      ]
    },
    {
      "cell_type": "markdown",
      "metadata": {
        "id": "aj3xeyhCvD9D"
      },
      "source": [
        "Cek Missing Value"
      ]
    },
    {
      "cell_type": "code",
      "execution_count": 3,
      "metadata": {
        "colab": {
          "base_uri": "https://localhost:8080/"
        },
        "id": "sZj8KHFNvD9D",
        "outputId": "d0b288b0-b3ac-4551-cbf2-5f30b12d4051"
      },
      "outputs": [
        {
          "name": "stdout",
          "output_type": "stream",
          "text": [
            "No                                                0\n",
            "NIM                                              14\n",
            "NAMA                                             13\n",
            "PRODI                                            14\n",
            "FAKULTAS                                         14\n",
            "UKT                                              14\n",
            "NILAI UKT                                        14\n",
            "PENGHASILAN AYAH                                  0\n",
            "PENGHASILAN IBU                                   0\n",
            "TOTAL PENGHASILAN                                 0\n",
            "Jumlah Anggota Keluarga (Ayah, Ibu dan Anak)    134\n",
            "TOTAL PENGHASILAN/JUMLAH ANGGOTA KEL            134\n",
            "STATUS AYAH                                       0\n",
            "STATUS IBU                                        0\n",
            "STATUS KIP                                        0\n",
            "STATUS TDK MAMPU                                  0\n",
            "STATUS KKS                                        0\n",
            "STATUS_LULUS_KIP                                  0\n",
            "dtype: int64\n"
          ]
        }
      ],
      "source": [
        "print (data.isnull().sum())"
      ]
    },
    {
      "cell_type": "markdown",
      "metadata": {
        "id": "RP7XgUEPvD9E"
      },
      "source": [
        "Drop Missing Value"
      ]
    },
    {
      "cell_type": "code",
      "execution_count": 4,
      "metadata": {
        "id": "DVDxK4VSvD9E"
      },
      "outputs": [],
      "source": [
        "df=data.dropna()"
      ]
    },
    {
      "cell_type": "code",
      "execution_count": 5,
      "metadata": {},
      "outputs": [
        {
          "name": "stdout",
          "output_type": "stream",
          "text": [
            "['Ilmu Administrasi Negara' 'Bimb. Konseling Islam' 'Teknik Industri'\n",
            " 'Manajemen Pend. Islam' 'Ilmu Hukum' 'Pendidikan Bahasa Inggris'\n",
            " 'Pendidikan Bahasa Indonesia' 'Pendidikan Geografi' 'Akuntansi'\n",
            " 'Pendidikan Guru MI' 'Hk. Ekonomi Syariah (Mua)' 'Tadris IPA'\n",
            " 'Ekonomi Syariah' 'Agroteknologi'\n",
            " 'Bimbingan dan Konseling Pendidikan Islam' 'Pendidikan Matematika'\n",
            " 'Pendidikan Ekonomi' 'Pendidikan Agama Islam'\n",
            " 'Pend. Islam Anak Usia Dini' 'Studi Agama Agama' 'Tadris IPS'\n",
            " 'Peternakan' 'GIZI' 'Teknik Informatika' 'Psikologi'\n",
            " 'Hk. Tata Negara (Siyasah)' 'Ilmu Alquran dan Tafsir'\n",
            " 'Pendidikan Bahasa Arab' 'Ilmu Hadis' 'Matematika' 'Ilmu Komunikasi'\n",
            " 'Peng. Masyarakat Islam' 'Hukum Keluarga (AH)' 'Manajemen'\n",
            " 'Perbandingan Madzhab' 'Manajemen Dakwah' 'Sistem Informasi'\n",
            " 'Teknik Elektro' 'Aqidah dan Filsafat Islam' 'Pendidikan Kimia'\n",
            " 'D-III Perpajakan' 'D-III Man. Perusahaan' 'D-III Perbankan Syariah'\n",
            " 'D-III Akuntansi']\n"
          ]
        }
      ],
      "source": [
        "print(df[\"PRODI\"].unique())"
      ]
    },
    {
      "cell_type": "code",
      "execution_count": 6,
      "metadata": {},
      "outputs": [
        {
          "name": "stdout",
          "output_type": "stream",
          "text": [
            "      No           NIM                             NAMA  \\\n",
            "0      1  1.217052e+10                    WIDYA YOLANDA   \n",
            "1      2  1.214022e+10                          MARDHEA   \n",
            "2      3  1.215021e+10                    Muhammad Rozi   \n",
            "3      4  1.211032e+10                  AMELIA MAWADDAH   \n",
            "4      5  1.212072e+10                AMANDA NADYA RONA   \n",
            "5      6  1.211042e+10               SYARIFAH INDRIYANI   \n",
            "8      9  1.211122e+10                    LIA MAKHMUDAH   \n",
            "9     10  1.211132e+10              ROSINTA AYANI PUTRI   \n",
            "11    12  1.217032e+10                     Widya Monica   \n",
            "12    13  1.211082e+10              SUCI LARASATI EFLIN   \n",
            "13    14  1.212022e+10                      ANNA ZAHARA   \n",
            "15    16  1.211112e+10             LIZA MAULIDA SIAGIAN   \n",
            "17    18  1.212051e+10                      SITIJI ILMI   \n",
            "18    19  1.218022e+10                  Sahrani Tanjung   \n",
            "21    22  1.211162e+10                    MIFTAHHURAHMI   \n",
            "24    25  1.211051e+10             JABAL YASIR NASUTION   \n",
            "25    26  1.211062e+10                  PUTRI WULANDARI   \n",
            "26    27  1.211012e+10                 SYAHZAN FIL'AINI   \n",
            "27    28  1.211092e+10                    UMMUL LATIFAH   \n",
            "31    32  1.213032e+10                  INA SITI ASTUTI   \n",
            "34    35  1.211142e+10                ALTHARIQUL JANNAH   \n",
            "37    38  1.218012e+10                     RANI PRATIWI   \n",
            "42    43  1.218032e+10                         HARYANTI   \n",
            "45    46  1.215012e+10                       RIA ANJELI   \n",
            "50    51  1.216012e+10                AIDA ROH FITRIANA   \n",
            "65    66  1.212041e+10                         HEFRIZAL   \n",
            "66    67  1.213022e+10                      SITI AMINAH   \n",
            "71    72  1.211022e+10                       SUKMA SIFA   \n",
            "72    73  1.213041e+10                     MUHAMAD ARIP   \n",
            "88    89  1.215042e+10                     TANIA AFRINA   \n",
            "91    92  1.214031e+10                      Ranov Mefdi   \n",
            "98    99  1.214012e+10                     RITA HARTATI   \n",
            "108  109  1.212011e+10                  LINGGA JEFRIADI   \n",
            "121  122  1.217011e+10                MUHAMMAD FAJRI. Z   \n",
            "125  126  1.212032e+10                 DESI NURDIANSYAH   \n",
            "127  128  1.214042e+10                    NURMA SARLENA   \n",
            "131  132  1.215032e+10                      Risma Mutia   \n",
            "151  152  1.215052e+10               SITRI PERMATA SARI   \n",
            "207  208  1.213012e+10                       NUR ADILLA   \n",
            "235  236  1.211072e+10                 MIRA PUTRI AULIA   \n",
            "714  715  2.170621e+09  CHAIRAH AMALIA PUTRI ANDRI ANNO   \n",
            "733  734  2.170221e+09                     NURJAMILATUN   \n",
            "753  754  2.120615e+09                       HAFIZUDDIN   \n",
            "804  805  2.170425e+09                SEFRI NOFRI YANTI   \n",
            "\n",
            "                                        PRODI                  FAKULTAS  UKT  \\\n",
            "0                    Ilmu Administrasi Negara   Ekonomi dan Ilmu Sosial  3.0   \n",
            "1                       Bimb. Konseling Islam     Dakwah dan Komunikasi  3.0   \n",
            "2                             Teknik Industri       Sains dan Teknologi  4.0   \n",
            "3                       Manajemen Pend. Islam    Tarbiyah dan Perguruan  2.0   \n",
            "4                                  Ilmu Hukum        Syari'ah dan Hukum  4.0   \n",
            "5                   Pendidikan Bahasa Inggris    Tarbiyah dan Perguruan  3.0   \n",
            "8                 Pendidikan Bahasa Indonesia    Tarbiyah dan Perguruan  5.0   \n",
            "9                         Pendidikan Geografi    Tarbiyah dan Perguruan  3.0   \n",
            "11                                  Akuntansi   Ekonomi dan Ilmu Sosial  3.0   \n",
            "12                         Pendidikan Guru MI    Tarbiyah dan Perguruan  4.0   \n",
            "13                  Hk. Ekonomi Syariah (Mua)        Syari'ah dan Hukum  3.0   \n",
            "15                                 Tadris IPA    Tarbiyah dan Perguruan  5.0   \n",
            "17                            Ekonomi Syariah        Syari'ah dan Hukum  2.0   \n",
            "18                              Agroteknologi  Pertanian dan Peternakan  2.0   \n",
            "21   Bimbingan dan Konseling Pendidikan Islam    Tarbiyah dan Perguruan  3.0   \n",
            "24                      Pendidikan Matematika    Tarbiyah dan Perguruan  2.0   \n",
            "25                         Pendidikan Ekonomi    Tarbiyah dan Perguruan  1.0   \n",
            "26                     Pendidikan Agama Islam    Tarbiyah dan Perguruan  2.0   \n",
            "27                 Pend. Islam Anak Usia Dini    Tarbiyah dan Perguruan  2.0   \n",
            "31                          Studi Agama Agama                Ushuluddin  2.0   \n",
            "34                                 Tadris IPS    Tarbiyah dan Perguruan  3.0   \n",
            "37                                 Peternakan  Pertanian dan Peternakan  2.0   \n",
            "42                                       GIZI  Pertanian dan Peternakan  3.0   \n",
            "45                         Teknik Informatika       Sains dan Teknologi  2.0   \n",
            "50                                  Psikologi                 Psikologi  2.0   \n",
            "65                  Hk. Tata Negara (Siyasah)        Syari'ah dan Hukum  2.0   \n",
            "66                    Ilmu Alquran dan Tafsir                Ushuluddin  1.0   \n",
            "71                     Pendidikan Bahasa Arab    Tarbiyah dan Perguruan  1.0   \n",
            "72                                 Ilmu Hadis                Ushuluddin  1.0   \n",
            "88                                 Matematika       Sains dan Teknologi  3.0   \n",
            "91                            Ilmu Komunikasi     Dakwah dan Komunikasi  4.0   \n",
            "98                     Peng. Masyarakat Islam     Dakwah dan Komunikasi  3.0   \n",
            "108                       Hukum Keluarga (AH)        Syari'ah dan Hukum  3.0   \n",
            "121                                 Manajemen   Ekonomi dan Ilmu Sosial  2.0   \n",
            "125                      Perbandingan Madzhab        Syari'ah dan Hukum  4.0   \n",
            "127                          Manajemen Dakwah     Dakwah dan Komunikasi  2.0   \n",
            "131                          Sistem Informasi       Sains dan Teknologi  3.0   \n",
            "151                            Teknik Elektro       Sains dan Teknologi  2.0   \n",
            "207                 Aqidah dan Filsafat Islam                Ushuluddin  3.0   \n",
            "235                          Pendidikan Kimia    Tarbiyah dan Perguruan  4.0   \n",
            "714                          D-III Perpajakan   Ekonomi dan Ilmu Sosial  3.0   \n",
            "733                     D-III Man. Perusahaan   Ekonomi dan Ilmu Sosial  2.0   \n",
            "753                   D-III Perbankan Syariah        Syari'ah dan Hukum  4.0   \n",
            "804                           D-III Akuntansi   Ekonomi dan Ilmu Sosial  4.0   \n",
            "\n",
            "     NILAI UKT  PENGHASILAN AYAH  PENGHASILAN IBU  TOTAL PENGHASILAN  \\\n",
            "0    2400000.0           1500000                0            1500000   \n",
            "1    2400000.0           1000000                0            1000000   \n",
            "2    3600000.0           3500000                0            3500000   \n",
            "3    1825000.0            700000                0             700000   \n",
            "4    3200000.0           3000000                0            3000000   \n",
            "5    2550000.0           1300000                0            1300000   \n",
            "8    3220000.0           2200000           350000            2550000   \n",
            "9    2400000.0                 0          1150000            1150000   \n",
            "11   2400000.0            700000                0             700000   \n",
            "12   2800000.0           2500000                0            2500000   \n",
            "13   2400000.0           2500000                0            2500000   \n",
            "15   4140000.0           1300000                0            1300000   \n",
            "17   1925000.0           1000000           300000            1300000   \n",
            "18   2000000.0           2000000                0            2000000   \n",
            "21   2400000.0            500000                0             500000   \n",
            "24   1925000.0            500000                0             500000   \n",
            "25    400000.0            100000                0             100000   \n",
            "26   1825000.0           1000000                0            1000000   \n",
            "27   1825000.0           1000000                0            1000000   \n",
            "31   1825000.0           2000000                0            2000000   \n",
            "34   2600000.0            500000                0             500000   \n",
            "37   2000000.0           2800000                0            2800000   \n",
            "42   2750000.0            800000                0             800000   \n",
            "45   2250000.0           1500000                0            1500000   \n",
            "50   1925000.0           1500000                0            1500000   \n",
            "65   1825000.0                 0                0                  0   \n",
            "66    400000.0            850000                0             850000   \n",
            "71    400000.0                 0           800000             800000   \n",
            "72    400000.0                 0                0                  0   \n",
            "88   2900000.0           2500000                0            2500000   \n",
            "91   3200000.0           3000000          1500000            4500000   \n",
            "98   2400000.0           1000000                0            1000000   \n",
            "108  2400000.0            800000                0             800000   \n",
            "121  1825000.0                 0                0                  0   \n",
            "125  2800000.0           4000000                0            4000000   \n",
            "127  1925000.0           1000000                0            1000000   \n",
            "131  2900000.0           3000000                0            3000000   \n",
            "151  2075000.0            500000                0             500000   \n",
            "207  2400000.0           1000000                0            1000000   \n",
            "235  3600000.0                 0          1000000            1000000   \n",
            "714  2400000.0           2900000                0            2900000   \n",
            "733  1825000.0            300000                0             300000   \n",
            "753  3200000.0           1000000           200000            1200000   \n",
            "804  3200000.0           4000000                0            4000000   \n",
            "\n",
            "     Jumlah Anggota Keluarga (Ayah, Ibu dan Anak)  \\\n",
            "0                                             4.0   \n",
            "1                                             5.0   \n",
            "2                                             5.0   \n",
            "3                                             6.0   \n",
            "4                                             5.0   \n",
            "5                                             4.0   \n",
            "8                                             4.0   \n",
            "9                                             6.0   \n",
            "11                                            7.0   \n",
            "12                                            6.0   \n",
            "13                                            6.0   \n",
            "15                                            7.0   \n",
            "17                                            6.0   \n",
            "18                                            5.0   \n",
            "21                                            5.0   \n",
            "24                                            7.0   \n",
            "25                                            5.0   \n",
            "26                                            6.0   \n",
            "27                                            9.0   \n",
            "31                                            6.0   \n",
            "34                                            4.0   \n",
            "37                                            6.0   \n",
            "42                                            3.0   \n",
            "45                                            3.0   \n",
            "50                                            6.0   \n",
            "65                                            7.0   \n",
            "66                                            5.0   \n",
            "71                                            8.0   \n",
            "72                                            6.0   \n",
            "88                                            5.0   \n",
            "91                                            4.0   \n",
            "98                                            5.0   \n",
            "108                                           6.0   \n",
            "121                                           5.0   \n",
            "125                                           7.0   \n",
            "127                                           5.0   \n",
            "131                                           5.0   \n",
            "151                                           3.0   \n",
            "207                                           4.0   \n",
            "235                                           3.0   \n",
            "714                                           5.0   \n",
            "733                                           3.0   \n",
            "753                                           4.0   \n",
            "804                                           6.0   \n",
            "\n",
            "     TOTAL PENGHASILAN/JUMLAH ANGGOTA KEL          STATUS AYAH  \\\n",
            "0                            3.750000e+05  File Tidak Diupload   \n",
            "1                            2.000000e+05        File Diupload   \n",
            "2                            7.000000e+05  File Tidak Diupload   \n",
            "3                            1.166667e+05  File Tidak Diupload   \n",
            "4                            6.000000e+05  File Tidak Diupload   \n",
            "5                            3.250000e+05  File Tidak Diupload   \n",
            "8                            6.375000e+05  File Tidak Diupload   \n",
            "9                            1.916667e+05  File Tidak Diupload   \n",
            "11                           1.000000e+05  File Tidak Diupload   \n",
            "12                           4.166667e+05        File Diupload   \n",
            "13                           4.166667e+05  File Tidak Diupload   \n",
            "15                           1.857143e+05  File Tidak Diupload   \n",
            "17                           2.166667e+05  File Tidak Diupload   \n",
            "18                           4.000000e+05  File Tidak Diupload   \n",
            "21                           1.000000e+05        File Diupload   \n",
            "24                           7.142857e+04  File Tidak Diupload   \n",
            "25                           2.000000e+04  File Tidak Diupload   \n",
            "26                           1.666667e+05  File Tidak Diupload   \n",
            "27                           1.111111e+05  File Tidak Diupload   \n",
            "31                           3.333333e+05  File Tidak Diupload   \n",
            "34                           1.250000e+05  File Tidak Diupload   \n",
            "37                           4.666667e+05  File Tidak Diupload   \n",
            "42                           2.666667e+05  File Tidak Diupload   \n",
            "45                           5.000000e+05  File Tidak Diupload   \n",
            "50                           2.500000e+05  File Tidak Diupload   \n",
            "65                           0.000000e+00  File Tidak Diupload   \n",
            "66                           1.700000e+05        File Diupload   \n",
            "71                           1.000000e+05        File Diupload   \n",
            "72                           0.000000e+00        File Diupload   \n",
            "88                           5.000000e+05        File Diupload   \n",
            "91                           1.125000e+06  File Tidak Diupload   \n",
            "98                           2.000000e+05  File Tidak Diupload   \n",
            "108                          1.333333e+05  File Tidak Diupload   \n",
            "121                          0.000000e+00        File Diupload   \n",
            "125                          5.714286e+05  File Tidak Diupload   \n",
            "127                          2.000000e+05  File Tidak Diupload   \n",
            "131                          6.000000e+05  File Tidak Diupload   \n",
            "151                          1.666667e+05  File Tidak Diupload   \n",
            "207                          2.500000e+05  File Tidak Diupload   \n",
            "235                          3.333333e+05        File Diupload   \n",
            "714                          5.800000e+05  File Tidak Diupload   \n",
            "733                          1.000000e+05  File Tidak Diupload   \n",
            "753                          3.000000e+05        File Diupload   \n",
            "804                          6.666667e+05  File Tidak Diupload   \n",
            "\n",
            "              STATUS IBU           STATUS KIP     STATUS TDK MAMPU  \\\n",
            "0    File Tidak Diupload        File Diupload        File Diupload   \n",
            "1          File Diupload        File Diupload        File Diupload   \n",
            "2    File Tidak Diupload        File Diupload        File Diupload   \n",
            "3    File Tidak Diupload        File Diupload        File Diupload   \n",
            "4    File Tidak Diupload  File Tidak Diupload  File Tidak Diupload   \n",
            "5    File Tidak Diupload  File Tidak Diupload        File Diupload   \n",
            "8    File Tidak Diupload  File Tidak Diupload        File Diupload   \n",
            "9    File Tidak Diupload  File Tidak Diupload  File Tidak Diupload   \n",
            "11   File Tidak Diupload  File Tidak Diupload        File Diupload   \n",
            "12         File Diupload        File Diupload        File Diupload   \n",
            "13   File Tidak Diupload  File Tidak Diupload        File Diupload   \n",
            "15   File Tidak Diupload  File Tidak Diupload        File Diupload   \n",
            "17   File Tidak Diupload        File Diupload        File Diupload   \n",
            "18   File Tidak Diupload  File Tidak Diupload        File Diupload   \n",
            "21         File Diupload        File Diupload        File Diupload   \n",
            "24   File Tidak Diupload  File Tidak Diupload        File Diupload   \n",
            "25   File Tidak Diupload  File Tidak Diupload        File Diupload   \n",
            "26   File Tidak Diupload  File Tidak Diupload        File Diupload   \n",
            "27   File Tidak Diupload        File Diupload        File Diupload   \n",
            "31   File Tidak Diupload  File Tidak Diupload        File Diupload   \n",
            "34   File Tidak Diupload  File Tidak Diupload        File Diupload   \n",
            "37   File Tidak Diupload        File Diupload        File Diupload   \n",
            "42   File Tidak Diupload  File Tidak Diupload        File Diupload   \n",
            "45   File Tidak Diupload        File Diupload        File Diupload   \n",
            "50   File Tidak Diupload        File Diupload        File Diupload   \n",
            "65   File Tidak Diupload  File Tidak Diupload  File Tidak Diupload   \n",
            "66   File Tidak Diupload        File Diupload        File Diupload   \n",
            "71   File Tidak Diupload        File Diupload        File Diupload   \n",
            "72   File Tidak Diupload        File Diupload        File Diupload   \n",
            "88         File Diupload        File Diupload        File Diupload   \n",
            "91   File Tidak Diupload  File Tidak Diupload        File Diupload   \n",
            "98   File Tidak Diupload        File Diupload        File Diupload   \n",
            "108  File Tidak Diupload  File Tidak Diupload        File Diupload   \n",
            "121  File Tidak Diupload  File Tidak Diupload        File Diupload   \n",
            "125  File Tidak Diupload  File Tidak Diupload        File Diupload   \n",
            "127  File Tidak Diupload        File Diupload        File Diupload   \n",
            "131  File Tidak Diupload        File Diupload        File Diupload   \n",
            "151        File Diupload        File Diupload        File Diupload   \n",
            "207        File Diupload        File Diupload        File Diupload   \n",
            "235  File Tidak Diupload  File Tidak Diupload        File Diupload   \n",
            "714  File Tidak Diupload  File Tidak Diupload        File Diupload   \n",
            "733  File Tidak Diupload        File Diupload        File Diupload   \n",
            "753        File Diupload        File Diupload        File Diupload   \n",
            "804  File Tidak Diupload  File Tidak Diupload        File Diupload   \n",
            "\n",
            "              STATUS KKS STATUS_LULUS_KIP  \n",
            "0          File Diupload            LULUS  \n",
            "1          File Diupload            LULUS  \n",
            "2          File Diupload            LULUS  \n",
            "3          File Diupload            LULUS  \n",
            "4    File Tidak Diupload      TIDAK LULUS  \n",
            "5          File Diupload            LULUS  \n",
            "8    File Tidak Diupload            LULUS  \n",
            "9    File Tidak Diupload      TIDAK LULUS  \n",
            "11   File Tidak Diupload            LULUS  \n",
            "12         File Diupload            LULUS  \n",
            "13   File Tidak Diupload            LULUS  \n",
            "15   File Tidak Diupload      TIDAK LULUS  \n",
            "17         File Diupload            LULUS  \n",
            "18   File Tidak Diupload      TIDAK LULUS  \n",
            "21         File Diupload            LULUS  \n",
            "24         File Diupload      TIDAK LULUS  \n",
            "25         File Diupload            LULUS  \n",
            "26   File Tidak Diupload            LULUS  \n",
            "27         File Diupload            LULUS  \n",
            "31   File Tidak Diupload            LULUS  \n",
            "34   File Tidak Diupload      TIDAK LULUS  \n",
            "37   File Tidak Diupload            LULUS  \n",
            "42         File Diupload            LULUS  \n",
            "45         File Diupload            LULUS  \n",
            "50         File Diupload            LULUS  \n",
            "65   File Tidak Diupload      TIDAK LULUS  \n",
            "66         File Diupload      TIDAK LULUS  \n",
            "71         File Diupload            LULUS  \n",
            "72         File Diupload            LULUS  \n",
            "88         File Diupload            LULUS  \n",
            "91   File Tidak Diupload      TIDAK LULUS  \n",
            "98         File Diupload            LULUS  \n",
            "108  File Tidak Diupload            LULUS  \n",
            "121        File Diupload            LULUS  \n",
            "125  File Tidak Diupload      TIDAK LULUS  \n",
            "127        File Diupload            LULUS  \n",
            "131        File Diupload            LULUS  \n",
            "151  File Tidak Diupload            LULUS  \n",
            "207        File Diupload            LULUS  \n",
            "235  File Tidak Diupload            LULUS  \n",
            "714  File Tidak Diupload      TIDAK LULUS  \n",
            "733  File Tidak Diupload            LULUS  \n",
            "753        File Diupload      TIDAK LULUS  \n",
            "804  File Tidak Diupload      TIDAK LULUS  \n"
          ]
        }
      ],
      "source": [
        "print(df.drop_duplicates(subset = \"PRODI\"))"
      ]
    },
    {
      "cell_type": "code",
      "execution_count": null,
      "metadata": {},
      "outputs": [],
      "source": []
    },
    {
      "cell_type": "code",
      "execution_count": 7,
      "metadata": {
        "colab": {
          "base_uri": "https://localhost:8080/"
        },
        "id": "QBHh68JavD9F",
        "outputId": "f1c1c934-93a9-44a1-b493-220457c14fe0"
      },
      "outputs": [
        {
          "name": "stdout",
          "output_type": "stream",
          "text": [
            "No                                              0\n",
            "NIM                                             0\n",
            "NAMA                                            0\n",
            "PRODI                                           0\n",
            "FAKULTAS                                        0\n",
            "UKT                                             0\n",
            "NILAI UKT                                       0\n",
            "PENGHASILAN AYAH                                0\n",
            "PENGHASILAN IBU                                 0\n",
            "TOTAL PENGHASILAN                               0\n",
            "Jumlah Anggota Keluarga (Ayah, Ibu dan Anak)    0\n",
            "TOTAL PENGHASILAN/JUMLAH ANGGOTA KEL            0\n",
            "STATUS AYAH                                     0\n",
            "STATUS IBU                                      0\n",
            "STATUS KIP                                      0\n",
            "STATUS TDK MAMPU                                0\n",
            "STATUS KKS                                      0\n",
            "STATUS_LULUS_KIP                                0\n",
            "dtype: int64\n"
          ]
        }
      ],
      "source": [
        "print (df.isnull().sum())"
      ]
    },
    {
      "cell_type": "code",
      "execution_count": 8,
      "metadata": {
        "colab": {
          "base_uri": "https://localhost:8080/"
        },
        "id": "NlwBxBC-vD9F",
        "outputId": "f123b2c1-6797-42b0-b989-9a68f70625fb"
      },
      "outputs": [
        {
          "data": {
            "text/plain": [
              "TIDAK LULUS    1157\n",
              "LULUS           999\n",
              "Name: STATUS_LULUS_KIP, dtype: int64"
            ]
          },
          "execution_count": 8,
          "metadata": {},
          "output_type": "execute_result"
        }
      ],
      "source": [
        "df['STATUS_LULUS_KIP'].value_counts()"
      ]
    },
    {
      "cell_type": "markdown",
      "metadata": {
        "id": "7a5elcrZvD9G"
      },
      "source": [
        "Data Encoding"
      ]
    },
    {
      "cell_type": "code",
      "execution_count": 9,
      "metadata": {
        "colab": {
          "base_uri": "https://localhost:8080/"
        },
        "id": "BGLS81WnvD9G",
        "outputId": "4b7c736c-db79-40da-ec26-6ca0e20d4e39"
      },
      "outputs": [
        {
          "name": "stderr",
          "output_type": "stream",
          "text": [
            "C:\\Users\\ASUS~1\\AppData\\Local\\Temp/ipykernel_22060/1752223893.py:1: SettingWithCopyWarning: \n",
            "A value is trying to be set on a copy of a slice from a DataFrame.\n",
            "Try using .loc[row_indexer,col_indexer] = value instead\n",
            "\n",
            "See the caveats in the documentation: https://pandas.pydata.org/pandas-docs/stable/user_guide/indexing.html#returning-a-view-versus-a-copy\n",
            "  df['STATUS_LULUS_KIP id'] = df['STATUS_LULUS_KIP'].factorize()[0]\n"
          ]
        }
      ],
      "source": [
        "df['STATUS_LULUS_KIP id'] = df['STATUS_LULUS_KIP'].factorize()[0]\n",
        "kategori_id_df = df[['STATUS_LULUS_KIP', 'STATUS_LULUS_KIP id']].drop_duplicates().sort_values('STATUS_LULUS_KIP id')\n",
        "kategori_to_id = dict(kategori_id_df.values)\n",
        "id_to_kategori = dict(kategori_id_df[['STATUS_LULUS_KIP id', 'STATUS_LULUS_KIP']].values)"
      ]
    },
    {
      "cell_type": "code",
      "execution_count": 10,
      "metadata": {
        "colab": {
          "base_uri": "https://localhost:8080/"
        },
        "id": "CNt5QYsevD9G",
        "outputId": "8e8b830a-38b1-4106-f243-cc433c1978a7"
      },
      "outputs": [
        {
          "data": {
            "text/plain": [
              "{0: 'LULUS', 1: 'TIDAK LULUS'}"
            ]
          },
          "execution_count": 10,
          "metadata": {},
          "output_type": "execute_result"
        }
      ],
      "source": [
        "id_to_kategori"
      ]
    },
    {
      "cell_type": "code",
      "execution_count": 11,
      "metadata": {
        "colab": {
          "base_uri": "https://localhost:8080/"
        },
        "id": "o3WPc-XzvD9H",
        "outputId": "f3d708a4-f84f-4cfc-d177-4518c2b2155e"
      },
      "outputs": [
        {
          "name": "stderr",
          "output_type": "stream",
          "text": [
            "C:\\Users\\ASUS~1\\AppData\\Local\\Temp/ipykernel_22060/3393308121.py:2: SettingWithCopyWarning: \n",
            "A value is trying to be set on a copy of a slice from a DataFrame.\n",
            "Try using .loc[row_indexer,col_indexer] = value instead\n",
            "\n",
            "See the caveats in the documentation: https://pandas.pydata.org/pandas-docs/stable/user_guide/indexing.html#returning-a-view-versus-a-copy\n",
            "  df['FAKULTAS'] = labelencoder.fit_transform(df['FAKULTAS'])\n",
            "C:\\Users\\ASUS~1\\AppData\\Local\\Temp/ipykernel_22060/3393308121.py:3: SettingWithCopyWarning: \n",
            "A value is trying to be set on a copy of a slice from a DataFrame.\n",
            "Try using .loc[row_indexer,col_indexer] = value instead\n",
            "\n",
            "See the caveats in the documentation: https://pandas.pydata.org/pandas-docs/stable/user_guide/indexing.html#returning-a-view-versus-a-copy\n",
            "  df['STATUS AYAH'] = labelencoder.fit_transform(df['STATUS AYAH'])\n",
            "C:\\Users\\ASUS~1\\AppData\\Local\\Temp/ipykernel_22060/3393308121.py:4: SettingWithCopyWarning: \n",
            "A value is trying to be set on a copy of a slice from a DataFrame.\n",
            "Try using .loc[row_indexer,col_indexer] = value instead\n",
            "\n",
            "See the caveats in the documentation: https://pandas.pydata.org/pandas-docs/stable/user_guide/indexing.html#returning-a-view-versus-a-copy\n",
            "  df['STATUS IBU'] = labelencoder.fit_transform(df['STATUS IBU'])\n",
            "C:\\Users\\ASUS~1\\AppData\\Local\\Temp/ipykernel_22060/3393308121.py:5: SettingWithCopyWarning: \n",
            "A value is trying to be set on a copy of a slice from a DataFrame.\n",
            "Try using .loc[row_indexer,col_indexer] = value instead\n",
            "\n",
            "See the caveats in the documentation: https://pandas.pydata.org/pandas-docs/stable/user_guide/indexing.html#returning-a-view-versus-a-copy\n",
            "  df['STATUS KIP'] = labelencoder.fit_transform(df['STATUS KIP'])\n",
            "C:\\Users\\ASUS~1\\AppData\\Local\\Temp/ipykernel_22060/3393308121.py:6: SettingWithCopyWarning: \n",
            "A value is trying to be set on a copy of a slice from a DataFrame.\n",
            "Try using .loc[row_indexer,col_indexer] = value instead\n",
            "\n",
            "See the caveats in the documentation: https://pandas.pydata.org/pandas-docs/stable/user_guide/indexing.html#returning-a-view-versus-a-copy\n",
            "  df['STATUS TDK MAMPU'] = labelencoder.fit_transform(df['STATUS TDK MAMPU'])\n",
            "C:\\Users\\ASUS~1\\AppData\\Local\\Temp/ipykernel_22060/3393308121.py:7: SettingWithCopyWarning: \n",
            "A value is trying to be set on a copy of a slice from a DataFrame.\n",
            "Try using .loc[row_indexer,col_indexer] = value instead\n",
            "\n",
            "See the caveats in the documentation: https://pandas.pydata.org/pandas-docs/stable/user_guide/indexing.html#returning-a-view-versus-a-copy\n",
            "  df['STATUS KKS'] = labelencoder.fit_transform(df['STATUS KKS'])\n"
          ]
        }
      ],
      "source": [
        "labelencoder = LabelEncoder()\n",
        "df['FAKULTAS'] = labelencoder.fit_transform(df['FAKULTAS'])\n",
        "df['STATUS AYAH'] = labelencoder.fit_transform(df['STATUS AYAH'])\n",
        "df['STATUS IBU'] = labelencoder.fit_transform(df['STATUS IBU'])\n",
        "df['STATUS KIP'] = labelencoder.fit_transform(df['STATUS KIP'])\n",
        "df['STATUS TDK MAMPU'] = labelencoder.fit_transform(df['STATUS TDK MAMPU'])\n",
        "df['STATUS KKS'] = labelencoder.fit_transform(df['STATUS KKS'])"
      ]
    },
    {
      "cell_type": "code",
      "execution_count": 12,
      "metadata": {
        "colab": {
          "base_uri": "https://localhost:8080/",
          "height": 496
        },
        "id": "kEfvgbJtvD9H",
        "outputId": "bed60794-fffc-4d06-ac2b-97838ac113eb"
      },
      "outputs": [
        {
          "data": {
            "text/html": [
              "<div>\n",
              "<style scoped>\n",
              "    .dataframe tbody tr th:only-of-type {\n",
              "        vertical-align: middle;\n",
              "    }\n",
              "\n",
              "    .dataframe tbody tr th {\n",
              "        vertical-align: top;\n",
              "    }\n",
              "\n",
              "    .dataframe thead th {\n",
              "        text-align: right;\n",
              "    }\n",
              "</style>\n",
              "<table border=\"1\" class=\"dataframe\">\n",
              "  <thead>\n",
              "    <tr style=\"text-align: right;\">\n",
              "      <th></th>\n",
              "      <th>No</th>\n",
              "      <th>NIM</th>\n",
              "      <th>NAMA</th>\n",
              "      <th>PRODI</th>\n",
              "      <th>FAKULTAS</th>\n",
              "      <th>UKT</th>\n",
              "      <th>NILAI UKT</th>\n",
              "      <th>PENGHASILAN AYAH</th>\n",
              "      <th>PENGHASILAN IBU</th>\n",
              "      <th>TOTAL PENGHASILAN</th>\n",
              "      <th>Jumlah Anggota Keluarga (Ayah, Ibu dan Anak)</th>\n",
              "      <th>TOTAL PENGHASILAN/JUMLAH ANGGOTA KEL</th>\n",
              "      <th>STATUS AYAH</th>\n",
              "      <th>STATUS IBU</th>\n",
              "      <th>STATUS KIP</th>\n",
              "      <th>STATUS TDK MAMPU</th>\n",
              "      <th>STATUS KKS</th>\n",
              "      <th>STATUS_LULUS_KIP</th>\n",
              "      <th>STATUS_LULUS_KIP id</th>\n",
              "    </tr>\n",
              "  </thead>\n",
              "  <tbody>\n",
              "    <tr>\n",
              "      <th>0</th>\n",
              "      <td>1</td>\n",
              "      <td>1.217052e+10</td>\n",
              "      <td>WIDYA YOLANDA</td>\n",
              "      <td>Ilmu Administrasi Negara</td>\n",
              "      <td>1</td>\n",
              "      <td>3.0</td>\n",
              "      <td>2400000.0</td>\n",
              "      <td>1500000</td>\n",
              "      <td>0</td>\n",
              "      <td>1500000</td>\n",
              "      <td>4.0</td>\n",
              "      <td>375000.0000</td>\n",
              "      <td>1</td>\n",
              "      <td>1</td>\n",
              "      <td>0</td>\n",
              "      <td>0</td>\n",
              "      <td>0</td>\n",
              "      <td>LULUS</td>\n",
              "      <td>0</td>\n",
              "    </tr>\n",
              "    <tr>\n",
              "      <th>1</th>\n",
              "      <td>2</td>\n",
              "      <td>1.214022e+10</td>\n",
              "      <td>MARDHEA</td>\n",
              "      <td>Bimb. Konseling Islam</td>\n",
              "      <td>0</td>\n",
              "      <td>3.0</td>\n",
              "      <td>2400000.0</td>\n",
              "      <td>1000000</td>\n",
              "      <td>0</td>\n",
              "      <td>1000000</td>\n",
              "      <td>5.0</td>\n",
              "      <td>200000.0000</td>\n",
              "      <td>0</td>\n",
              "      <td>0</td>\n",
              "      <td>0</td>\n",
              "      <td>0</td>\n",
              "      <td>0</td>\n",
              "      <td>LULUS</td>\n",
              "      <td>0</td>\n",
              "    </tr>\n",
              "    <tr>\n",
              "      <th>2</th>\n",
              "      <td>3</td>\n",
              "      <td>1.215021e+10</td>\n",
              "      <td>Muhammad Rozi</td>\n",
              "      <td>Teknik Industri</td>\n",
              "      <td>4</td>\n",
              "      <td>4.0</td>\n",
              "      <td>3600000.0</td>\n",
              "      <td>3500000</td>\n",
              "      <td>0</td>\n",
              "      <td>3500000</td>\n",
              "      <td>5.0</td>\n",
              "      <td>700000.0000</td>\n",
              "      <td>1</td>\n",
              "      <td>1</td>\n",
              "      <td>0</td>\n",
              "      <td>0</td>\n",
              "      <td>0</td>\n",
              "      <td>LULUS</td>\n",
              "      <td>0</td>\n",
              "    </tr>\n",
              "    <tr>\n",
              "      <th>3</th>\n",
              "      <td>4</td>\n",
              "      <td>1.211032e+10</td>\n",
              "      <td>AMELIA MAWADDAH</td>\n",
              "      <td>Manajemen Pend. Islam</td>\n",
              "      <td>6</td>\n",
              "      <td>2.0</td>\n",
              "      <td>1825000.0</td>\n",
              "      <td>700000</td>\n",
              "      <td>0</td>\n",
              "      <td>700000</td>\n",
              "      <td>6.0</td>\n",
              "      <td>116666.6667</td>\n",
              "      <td>1</td>\n",
              "      <td>1</td>\n",
              "      <td>0</td>\n",
              "      <td>0</td>\n",
              "      <td>0</td>\n",
              "      <td>LULUS</td>\n",
              "      <td>0</td>\n",
              "    </tr>\n",
              "    <tr>\n",
              "      <th>4</th>\n",
              "      <td>5</td>\n",
              "      <td>1.212072e+10</td>\n",
              "      <td>AMANDA NADYA RONA</td>\n",
              "      <td>Ilmu Hukum</td>\n",
              "      <td>5</td>\n",
              "      <td>4.0</td>\n",
              "      <td>3200000.0</td>\n",
              "      <td>3000000</td>\n",
              "      <td>0</td>\n",
              "      <td>3000000</td>\n",
              "      <td>5.0</td>\n",
              "      <td>600000.0000</td>\n",
              "      <td>1</td>\n",
              "      <td>1</td>\n",
              "      <td>1</td>\n",
              "      <td>1</td>\n",
              "      <td>1</td>\n",
              "      <td>TIDAK LULUS</td>\n",
              "      <td>1</td>\n",
              "    </tr>\n",
              "  </tbody>\n",
              "</table>\n",
              "</div>"
            ],
            "text/plain": [
              "   No           NIM               NAMA                     PRODI  FAKULTAS  \\\n",
              "0   1  1.217052e+10      WIDYA YOLANDA  Ilmu Administrasi Negara         1   \n",
              "1   2  1.214022e+10            MARDHEA     Bimb. Konseling Islam         0   \n",
              "2   3  1.215021e+10      Muhammad Rozi           Teknik Industri         4   \n",
              "3   4  1.211032e+10    AMELIA MAWADDAH     Manajemen Pend. Islam         6   \n",
              "4   5  1.212072e+10  AMANDA NADYA RONA                Ilmu Hukum         5   \n",
              "\n",
              "   UKT  NILAI UKT  PENGHASILAN AYAH  PENGHASILAN IBU  TOTAL PENGHASILAN  \\\n",
              "0  3.0  2400000.0           1500000                0            1500000   \n",
              "1  3.0  2400000.0           1000000                0            1000000   \n",
              "2  4.0  3600000.0           3500000                0            3500000   \n",
              "3  2.0  1825000.0            700000                0             700000   \n",
              "4  4.0  3200000.0           3000000                0            3000000   \n",
              "\n",
              "   Jumlah Anggota Keluarga (Ayah, Ibu dan Anak)  \\\n",
              "0                                           4.0   \n",
              "1                                           5.0   \n",
              "2                                           5.0   \n",
              "3                                           6.0   \n",
              "4                                           5.0   \n",
              "\n",
              "   TOTAL PENGHASILAN/JUMLAH ANGGOTA KEL  STATUS AYAH  STATUS IBU  STATUS KIP  \\\n",
              "0                           375000.0000            1           1           0   \n",
              "1                           200000.0000            0           0           0   \n",
              "2                           700000.0000            1           1           0   \n",
              "3                           116666.6667            1           1           0   \n",
              "4                           600000.0000            1           1           1   \n",
              "\n",
              "   STATUS TDK MAMPU  STATUS KKS STATUS_LULUS_KIP  STATUS_LULUS_KIP id  \n",
              "0                 0           0            LULUS                    0  \n",
              "1                 0           0            LULUS                    0  \n",
              "2                 0           0            LULUS                    0  \n",
              "3                 0           0            LULUS                    0  \n",
              "4                 1           1      TIDAK LULUS                    1  "
            ]
          },
          "execution_count": 12,
          "metadata": {},
          "output_type": "execute_result"
        }
      ],
      "source": [
        "df.head()"
      ]
    },
    {
      "cell_type": "markdown",
      "metadata": {
        "id": "fyZ5s-i7vD9H"
      },
      "source": [
        "Menentukan Variabel X dan Y"
      ]
    },
    {
      "cell_type": "code",
      "execution_count": 13,
      "metadata": {
        "id": "Nsd1VO5UvD9I"
      },
      "outputs": [],
      "source": [
        "#Extract data\n",
        "X = df.iloc[:,5:17]\n",
        "y = df.iloc[:,-1]"
      ]
    },
    {
      "cell_type": "code",
      "execution_count": 14,
      "metadata": {
        "colab": {
          "base_uri": "https://localhost:8080/",
          "height": 285
        },
        "id": "Wajt1inpvD9I",
        "outputId": "c4c1d03f-2542-4b56-9859-d17f5b678039"
      },
      "outputs": [
        {
          "data": {
            "text/html": [
              "<div>\n",
              "<style scoped>\n",
              "    .dataframe tbody tr th:only-of-type {\n",
              "        vertical-align: middle;\n",
              "    }\n",
              "\n",
              "    .dataframe tbody tr th {\n",
              "        vertical-align: top;\n",
              "    }\n",
              "\n",
              "    .dataframe thead th {\n",
              "        text-align: right;\n",
              "    }\n",
              "</style>\n",
              "<table border=\"1\" class=\"dataframe\">\n",
              "  <thead>\n",
              "    <tr style=\"text-align: right;\">\n",
              "      <th></th>\n",
              "      <th>UKT</th>\n",
              "      <th>NILAI UKT</th>\n",
              "      <th>PENGHASILAN AYAH</th>\n",
              "      <th>PENGHASILAN IBU</th>\n",
              "      <th>TOTAL PENGHASILAN</th>\n",
              "      <th>Jumlah Anggota Keluarga (Ayah, Ibu dan Anak)</th>\n",
              "      <th>TOTAL PENGHASILAN/JUMLAH ANGGOTA KEL</th>\n",
              "      <th>STATUS AYAH</th>\n",
              "      <th>STATUS IBU</th>\n",
              "      <th>STATUS KIP</th>\n",
              "      <th>STATUS TDK MAMPU</th>\n",
              "      <th>STATUS KKS</th>\n",
              "    </tr>\n",
              "  </thead>\n",
              "  <tbody>\n",
              "    <tr>\n",
              "      <th>0</th>\n",
              "      <td>3.0</td>\n",
              "      <td>2400000.0</td>\n",
              "      <td>1500000</td>\n",
              "      <td>0</td>\n",
              "      <td>1500000</td>\n",
              "      <td>4.0</td>\n",
              "      <td>375000.0000</td>\n",
              "      <td>1</td>\n",
              "      <td>1</td>\n",
              "      <td>0</td>\n",
              "      <td>0</td>\n",
              "      <td>0</td>\n",
              "    </tr>\n",
              "    <tr>\n",
              "      <th>1</th>\n",
              "      <td>3.0</td>\n",
              "      <td>2400000.0</td>\n",
              "      <td>1000000</td>\n",
              "      <td>0</td>\n",
              "      <td>1000000</td>\n",
              "      <td>5.0</td>\n",
              "      <td>200000.0000</td>\n",
              "      <td>0</td>\n",
              "      <td>0</td>\n",
              "      <td>0</td>\n",
              "      <td>0</td>\n",
              "      <td>0</td>\n",
              "    </tr>\n",
              "    <tr>\n",
              "      <th>2</th>\n",
              "      <td>4.0</td>\n",
              "      <td>3600000.0</td>\n",
              "      <td>3500000</td>\n",
              "      <td>0</td>\n",
              "      <td>3500000</td>\n",
              "      <td>5.0</td>\n",
              "      <td>700000.0000</td>\n",
              "      <td>1</td>\n",
              "      <td>1</td>\n",
              "      <td>0</td>\n",
              "      <td>0</td>\n",
              "      <td>0</td>\n",
              "    </tr>\n",
              "    <tr>\n",
              "      <th>3</th>\n",
              "      <td>2.0</td>\n",
              "      <td>1825000.0</td>\n",
              "      <td>700000</td>\n",
              "      <td>0</td>\n",
              "      <td>700000</td>\n",
              "      <td>6.0</td>\n",
              "      <td>116666.6667</td>\n",
              "      <td>1</td>\n",
              "      <td>1</td>\n",
              "      <td>0</td>\n",
              "      <td>0</td>\n",
              "      <td>0</td>\n",
              "    </tr>\n",
              "    <tr>\n",
              "      <th>4</th>\n",
              "      <td>4.0</td>\n",
              "      <td>3200000.0</td>\n",
              "      <td>3000000</td>\n",
              "      <td>0</td>\n",
              "      <td>3000000</td>\n",
              "      <td>5.0</td>\n",
              "      <td>600000.0000</td>\n",
              "      <td>1</td>\n",
              "      <td>1</td>\n",
              "      <td>1</td>\n",
              "      <td>1</td>\n",
              "      <td>1</td>\n",
              "    </tr>\n",
              "  </tbody>\n",
              "</table>\n",
              "</div>"
            ],
            "text/plain": [
              "   UKT  NILAI UKT  PENGHASILAN AYAH  PENGHASILAN IBU  TOTAL PENGHASILAN  \\\n",
              "0  3.0  2400000.0           1500000                0            1500000   \n",
              "1  3.0  2400000.0           1000000                0            1000000   \n",
              "2  4.0  3600000.0           3500000                0            3500000   \n",
              "3  2.0  1825000.0            700000                0             700000   \n",
              "4  4.0  3200000.0           3000000                0            3000000   \n",
              "\n",
              "   Jumlah Anggota Keluarga (Ayah, Ibu dan Anak)  \\\n",
              "0                                           4.0   \n",
              "1                                           5.0   \n",
              "2                                           5.0   \n",
              "3                                           6.0   \n",
              "4                                           5.0   \n",
              "\n",
              "   TOTAL PENGHASILAN/JUMLAH ANGGOTA KEL  STATUS AYAH  STATUS IBU  STATUS KIP  \\\n",
              "0                           375000.0000            1           1           0   \n",
              "1                           200000.0000            0           0           0   \n",
              "2                           700000.0000            1           1           0   \n",
              "3                           116666.6667            1           1           0   \n",
              "4                           600000.0000            1           1           1   \n",
              "\n",
              "   STATUS TDK MAMPU  STATUS KKS  \n",
              "0                 0           0  \n",
              "1                 0           0  \n",
              "2                 0           0  \n",
              "3                 0           0  \n",
              "4                 1           1  "
            ]
          },
          "execution_count": 14,
          "metadata": {},
          "output_type": "execute_result"
        }
      ],
      "source": [
        "X.head()"
      ]
    },
    {
      "cell_type": "code",
      "execution_count": 15,
      "metadata": {},
      "outputs": [],
      "source": [
        "X.to_csv('dataset/X.csv', index=False)"
      ]
    },
    {
      "cell_type": "code",
      "execution_count": 16,
      "metadata": {
        "colab": {
          "base_uri": "https://localhost:8080/"
        },
        "id": "YhNM-b2EvD9I",
        "outputId": "68e509e5-cea5-4daa-add9-4f6b25281479"
      },
      "outputs": [
        {
          "data": {
            "text/plain": [
              "0    0\n",
              "1    0\n",
              "2    0\n",
              "3    0\n",
              "4    1\n",
              "Name: STATUS_LULUS_KIP id, dtype: int64"
            ]
          },
          "execution_count": 16,
          "metadata": {},
          "output_type": "execute_result"
        }
      ],
      "source": [
        "y.head()"
      ]
    },
    {
      "cell_type": "code",
      "execution_count": 17,
      "metadata": {},
      "outputs": [],
      "source": [
        "y.to_csv('dataset/y.csv', index=False)"
      ]
    },
    {
      "cell_type": "markdown",
      "metadata": {
        "id": "GvsZyBUGvD9I"
      },
      "source": [
        "Train dan Test Split"
      ]
    },
    {
      "cell_type": "code",
      "execution_count": 18,
      "metadata": {
        "id": "yVseB7gevD9J"
      },
      "outputs": [],
      "source": [
        "# membagi data set menggunakan sklearn\n",
        "X_train, X_test, y_train, y_test = train_test_split(X, y, test_size = 0.2, random_state = 25)"
      ]
    },
    {
      "cell_type": "markdown",
      "metadata": {
        "id": "4lDBRLG7vD9J"
      },
      "source": [
        "Normalisasi Data Menggunakan Standar Scaler"
      ]
    },
    {
      "cell_type": "code",
      "execution_count": 19,
      "metadata": {
        "id": "BTXKRFmuvD9J"
      },
      "outputs": [],
      "source": [
        "from sklearn.preprocessing import StandardScaler\n",
        "scaler = StandardScaler()  \n",
        "scaler.fit(X_train)\n",
        "X_train = scaler.transform(X_train)  \n",
        "X_test = scaler.transform(X_test)"
      ]
    },
    {
      "cell_type": "markdown",
      "metadata": {
        "id": "eD3S-puyvD9J"
      },
      "source": [
        "##### Model KNN"
      ]
    },
    {
      "cell_type": "markdown",
      "metadata": {
        "id": "fqKKEMVavD9J"
      },
      "source": [
        "Membangun Model KNN Brute Force"
      ]
    },
    {
      "cell_type": "code",
      "execution_count": 20,
      "metadata": {
        "id": "tFNmCSIvvD9K"
      },
      "outputs": [],
      "source": [
        "#membuat model KNN\n",
        "Model_KNN = KNeighborsClassifier(algorithm='brute')"
      ]
    },
    {
      "cell_type": "code",
      "execution_count": 21,
      "metadata": {
        "id": "fOcD8dQAvD9K"
      },
      "outputs": [],
      "source": [
        "from sklearn.model_selection import GridSearchCV\n",
        "parameters_KNN = {\n",
        "    'n_neighbors': (1,10, 1),\n",
        "    'leaf_size': (20,40,1),\n",
        "    'p': (1,2),\n",
        "    'weights': ('uniform', 'distance'),\n",
        "    'metric': ('minkowski', 'chebyshev')}\n",
        "                   \n",
        "# with GridSearch\n",
        "grid_search_KNN = GridSearchCV(\n",
        "    estimator=Model_KNN,\n",
        "    param_grid=parameters_KNN,\n",
        "    scoring = 'accuracy',\n",
        "    n_jobs = -1,\n",
        "    cv = 5\n",
        ")"
      ]
    },
    {
      "cell_type": "code",
      "execution_count": 22,
      "metadata": {
        "colab": {
          "base_uri": "https://localhost:8080/"
        },
        "id": "8CguONEcvD9K",
        "outputId": "21f079a6-8625-4081-ea94-cda41a881e55"
      },
      "outputs": [
        {
          "data": {
            "text/plain": [
              "GridSearchCV(cv=5, estimator=KNeighborsClassifier(algorithm='brute'), n_jobs=-1,\n",
              "             param_grid={'leaf_size': (20, 40, 1),\n",
              "                         'metric': ('minkowski', 'chebyshev'),\n",
              "                         'n_neighbors': (1, 10, 1), 'p': (1, 2),\n",
              "                         'weights': ('uniform', 'distance')},\n",
              "             scoring='accuracy')"
            ]
          },
          "execution_count": 22,
          "metadata": {},
          "output_type": "execute_result"
        }
      ],
      "source": [
        "grid_search_KNN.fit(X_train,y_train)"
      ]
    },
    {
      "cell_type": "code",
      "execution_count": 23,
      "metadata": {
        "colab": {
          "base_uri": "https://localhost:8080/"
        },
        "id": "VkOK4eWxvD9K",
        "outputId": "c4264f9b-7c81-4aee-b887-cbc6a5d853a1"
      },
      "outputs": [
        {
          "name": "stdout",
          "output_type": "stream",
          "text": [
            "{'leaf_size': 20, 'metric': 'minkowski', 'n_neighbors': 10, 'p': 2, 'weights': 'uniform'}\n"
          ]
        }
      ],
      "source": [
        "print(grid_search_KNN.best_params_ ) "
      ]
    },
    {
      "cell_type": "markdown",
      "metadata": {
        "id": "58yvTNUvvD9K"
      },
      "source": [
        "Menyimpan Model Ke Disk"
      ]
    },
    {
      "cell_type": "code",
      "execution_count": 24,
      "metadata": {
        "id": "wEYiqMSgvD9L"
      },
      "outputs": [],
      "source": [
        "# Saving model to disk\n",
        "pickle.dump(grid_search_KNN, open('model/Model_KNN.pkl','wb'))"
      ]
    },
    {
      "cell_type": "code",
      "execution_count": 25,
      "metadata": {
        "id": "eUBYjsqvvD9L"
      },
      "outputs": [],
      "source": [
        "# Loading model to compare the results\n",
        "grid_search_KNN = pickle.load(open('model/Model_KNN.pkl','rb'))"
      ]
    },
    {
      "cell_type": "markdown",
      "metadata": {
        "id": "vcs7loMbvD9L"
      },
      "source": [
        "Prediksi Data Testing"
      ]
    },
    {
      "cell_type": "code",
      "execution_count": 26,
      "metadata": {
        "colab": {
          "base_uri": "https://localhost:8080/"
        },
        "id": "7bdJ5YDBvD9L",
        "outputId": "7ef4a0a2-1f42-4087-95dd-7fd1dc480cad"
      },
      "outputs": [
        {
          "data": {
            "text/plain": [
              "array([1, 0, 1, 1, 0, 0, 0, 0, 1, 1, 0, 0, 0, 0, 0, 1, 0, 0, 0, 0, 0, 0,\n",
              "       0, 1, 0, 1, 0, 1, 0, 1, 1, 1, 1, 0, 0, 1, 0, 0, 0, 0, 0, 1, 0, 1,\n",
              "       1, 1, 1, 1, 1, 0, 1, 0, 1, 0, 0, 1, 1, 0, 1, 1, 1, 1, 0, 0, 1, 1,\n",
              "       1, 0, 1, 1, 1, 1, 0, 0, 0, 1, 1, 1, 0, 0, 1, 0, 0, 0, 1, 0, 0, 0,\n",
              "       0, 0, 0, 1, 0, 1, 0, 1, 0, 0, 1, 0, 1, 1, 0, 0, 1, 1, 0, 1, 1, 0,\n",
              "       0, 1, 0, 0, 0, 0, 0, 1, 1, 0, 1, 0, 0, 0, 1, 1, 0, 1, 0, 1, 1, 0,\n",
              "       0, 0, 0, 0, 0, 1, 0, 0, 0, 0, 1, 1, 0, 0, 0, 1, 0, 1, 1, 0, 1, 0,\n",
              "       0, 1, 0, 1, 1, 1, 1, 1, 1, 1, 1, 1, 0, 1, 0, 0, 1, 0, 0, 1, 1, 0,\n",
              "       1, 1, 0, 0, 1, 1, 1, 1, 0, 0, 0, 0, 1, 1, 0, 0, 0, 0, 1, 1, 0, 0,\n",
              "       0, 1, 0, 0, 1, 1, 1, 0, 1, 0, 0, 0, 0, 1, 0, 1, 1, 0, 1, 1, 0, 0,\n",
              "       1, 1, 0, 0, 1, 0, 0, 0, 0, 1, 0, 1, 1, 1, 1, 1, 0, 0, 1, 1, 0, 1,\n",
              "       0, 0, 1, 0, 1, 1, 1, 0, 0, 0, 0, 1, 1, 0, 1, 0, 1, 1, 1, 1, 0, 1,\n",
              "       1, 0, 0, 1, 0, 0, 1, 1, 0, 0, 0, 1, 1, 0, 0, 1, 1, 0, 1, 1, 0, 0,\n",
              "       1, 0, 0, 0, 0, 1, 0, 1, 0, 0, 0, 0, 1, 1, 0, 1, 1, 0, 1, 1, 0, 0,\n",
              "       1, 1, 1, 1, 0, 0, 0, 0, 0, 0, 0, 1, 1, 1, 1, 0, 0, 1, 0, 1, 0, 1,\n",
              "       0, 0, 1, 0, 1, 0, 1, 0, 1, 1, 0, 1, 0, 0, 0, 0, 0, 1, 1, 0, 1, 1,\n",
              "       1, 1, 1, 1, 0, 0, 0, 1, 0, 0, 0, 0, 1, 1, 1, 0, 1, 1, 0, 0, 0, 0,\n",
              "       0, 1, 0, 0, 0, 1, 0, 0, 0, 0, 1, 0, 0, 1, 0, 0, 0, 0, 1, 0, 1, 0,\n",
              "       1, 0, 0, 0, 1, 0, 1, 1, 0, 0, 1, 0, 1, 1, 0, 1, 1, 1, 1, 0, 0, 0,\n",
              "       1, 1, 1, 1, 1, 1, 0, 0, 1, 0, 1, 0, 0, 1], dtype=int64)"
            ]
          },
          "execution_count": 26,
          "metadata": {},
          "output_type": "execute_result"
        }
      ],
      "source": [
        "y_pred = grid_search_KNN.predict(X_test)\n",
        "y_pred"
      ]
    },
    {
      "cell_type": "code",
      "execution_count": 27,
      "metadata": {
        "colab": {
          "base_uri": "https://localhost:8080/",
          "height": 388
        },
        "id": "b02yUzb1vD9L",
        "outputId": "2f06097a-7c6a-4d67-ac08-cca225c8743b"
      },
      "outputs": [
        {
          "data": {
            "image/png": "[encoded data removed]",
            "text/plain": [
              "<Figure size 576x432 with 2 Axes>"
            ]
          },
          "metadata": {
            "needs_background": "light"
          },
          "output_type": "display_data"
        }
      ],
      "source": [
        "#confunction matrix\n",
        "kategori_id_data = df[['STATUS_LULUS_KIP']].drop_duplicates().sort_values('STATUS_LULUS_KIP')\n",
        "conf_mat = confusion_matrix(y_test, y_pred)\n",
        "fig, ax = plt.subplots(figsize=(8,6))\n",
        "sns.heatmap(conf_mat, annot=True, fmt='d',\n",
        "            xticklabels=kategori_id_data.STATUS_LULUS_KIP.values, yticklabels=kategori_id_data.STATUS_LULUS_KIP.values)\n",
        "plt.ylabel('Actual')\n",
        "plt.xlabel('Predicted')\n",
        "plt.show()"
      ]
    },
    {
      "cell_type": "code",
      "execution_count": 28,
      "metadata": {
        "colab": {
          "base_uri": "https://localhost:8080/"
        },
        "id": "TKTIl1bfvD9M",
        "outputId": "191d5dea-56da-4e20-8544-309f0f5b6115"
      },
      "outputs": [
        {
          "name": "stdout",
          "output_type": "stream",
          "text": [
            "              precision    recall  f1-score   support\n",
            "\n",
            "           0       0.68      0.71      0.69       219\n",
            "           1       0.69      0.65      0.67       213\n",
            "\n",
            "    accuracy                           0.68       432\n",
            "   macro avg       0.68      0.68      0.68       432\n",
            "weighted avg       0.68      0.68      0.68       432\n",
            "\n"
          ]
        }
      ],
      "source": [
        "#Confussions Matrix\n",
        "y_pred = grid_search_KNN.predict(X_test)\n",
        "from sklearn.metrics import classification_report\n",
        "print(classification_report(y_test, y_pred))"
      ]
    },
    {
      "cell_type": "code",
      "execution_count": 29,
      "metadata": {
        "colab": {
          "base_uri": "https://localhost:8080/",
          "height": 159
        },
        "id": "TUHckBWWvD9M",
        "outputId": "e35cf772-92e5-449e-bd82-434e4e7f058b"
      },
      "outputs": [
        {
          "data": {
            "text/html": [
              "<div>\n",
              "<style scoped>\n",
              "    .dataframe tbody tr th:only-of-type {\n",
              "        vertical-align: middle;\n",
              "    }\n",
              "\n",
              "    .dataframe tbody tr th {\n",
              "        vertical-align: top;\n",
              "    }\n",
              "\n",
              "    .dataframe thead th {\n",
              "        text-align: right;\n",
              "    }\n",
              "</style>\n",
              "<table border=\"1\" class=\"dataframe\">\n",
              "  <thead>\n",
              "    <tr style=\"text-align: right;\">\n",
              "      <th></th>\n",
              "      <th>UKT</th>\n",
              "      <th>NILAI UKT</th>\n",
              "      <th>PENGHASILAN AYAH</th>\n",
              "      <th>PENGHASILAN IBU</th>\n",
              "      <th>TOTAL PENGHASILAN</th>\n",
              "      <th>Jumlah Anggota Keluarga (Ayah, Ibu dan Anak)</th>\n",
              "      <th>TOTAL PENGHASILAN/JUMLAH ANGGOTA KEL</th>\n",
              "      <th>STATUS AYAH</th>\n",
              "      <th>STATUS IBU</th>\n",
              "      <th>STATUS KIP</th>\n",
              "      <th>STATUS TDK MAMPU</th>\n",
              "      <th>STATUS KKS</th>\n",
              "    </tr>\n",
              "  </thead>\n",
              "  <tbody>\n",
              "    <tr>\n",
              "      <th>0</th>\n",
              "      <td>1</td>\n",
              "      <td>2400000</td>\n",
              "      <td>1000000</td>\n",
              "      <td>300000</td>\n",
              "      <td>1300000</td>\n",
              "      <td>6</td>\n",
              "      <td>216666.6667</td>\n",
              "      <td>1</td>\n",
              "      <td>0</td>\n",
              "      <td>1</td>\n",
              "      <td>0</td>\n",
              "      <td>1</td>\n",
              "    </tr>\n",
              "  </tbody>\n",
              "</table>\n",
              "</div>"
            ],
            "text/plain": [
              "   UKT  NILAI UKT  PENGHASILAN AYAH  PENGHASILAN IBU  TOTAL PENGHASILAN  \\\n",
              "0    1    2400000           1000000           300000            1300000   \n",
              "\n",
              "   Jumlah Anggota Keluarga (Ayah, Ibu dan Anak)  \\\n",
              "0                                             6   \n",
              "\n",
              "   TOTAL PENGHASILAN/JUMLAH ANGGOTA KEL  STATUS AYAH  STATUS IBU  STATUS KIP  \\\n",
              "0                           216666.6667            1           0           1   \n",
              "\n",
              "   STATUS TDK MAMPU  STATUS KKS  \n",
              "0                 0           1  "
            ]
          },
          "execution_count": 29,
          "metadata": {},
          "output_type": "execute_result"
        }
      ],
      "source": [
        "#penginputan data baru yang ingin di prediksi\n",
        "databaru = {'UKT' : [1],'NILAI UKT' : [2400000],'PENGHASILAN AYAH' : [1000000], 'PENGHASILAN IBU' : [300000], 'TOTAL PENGHASILAN' : [1300000], 'Jumlah Anggota Keluarga (Ayah, Ibu dan Anak)' : [6],'TOTAL PENGHASILAN/JUMLAH ANGGOTA KEL' :[216666.6667],'STATUS AYAH' :[1],'STATUS IBU' :[0],'STATUS KIP' :[1],'STATUS TDK MAMPU' :[0],'STATUS KKS' :[1] }\n",
        "baru = pd.DataFrame(data = databaru)\n",
        "baru"
      ]
    },
    {
      "cell_type": "code",
      "execution_count": 30,
      "metadata": {
        "id": "RDJu-lnlvD9N"
      },
      "outputs": [],
      "source": [
        "X_Baru=scaler.transform(baru)"
      ]
    },
    {
      "cell_type": "code",
      "execution_count": 31,
      "metadata": {},
      "outputs": [
        {
          "data": {
            "text/plain": [
              "array([[-1.9054969 ,  0.01948536, -0.22637024,  0.20445027, -0.10933859,\n",
              "         0.51436929, -0.36002718,  0.42142096, -3.09462229,  0.80021405,\n",
              "        -0.32532611,  0.83577639]])"
            ]
          },
          "execution_count": 31,
          "metadata": {},
          "output_type": "execute_result"
        }
      ],
      "source": [
        "X_Baru"
      ]
    },
    {
      "cell_type": "code",
      "execution_count": 32,
      "metadata": {
        "colab": {
          "base_uri": "https://localhost:8080/"
        },
        "id": "4Coo4yxxvD9N",
        "outputId": "d4543505-a89b-4f7a-9f37-8d8e4e5d9d60"
      },
      "outputs": [
        {
          "name": "stdout",
          "output_type": "stream",
          "text": [
            "LULUS\n"
          ]
        }
      ],
      "source": [
        "#prediksi data baru\n",
        "pred = grid_search_KNN.predict(X_Baru)\n",
        "pred = int(pred)\n",
        "hasil = id_to_kategori[pred]\n",
        "print(hasil)"
      ]
    },
    {
      "cell_type": "code",
      "execution_count": 33,
      "metadata": {},
      "outputs": [],
      "source": [
        "X_baru = pd.read_csv('dataset/X.csv')\n",
        "y_baru = pd.read_csv('dataset/y.csv')"
      ]
    },
    {
      "cell_type": "code",
      "execution_count": 34,
      "metadata": {},
      "outputs": [
        {
          "data": {
            "text/html": [
              "<div>\n",
              "<style scoped>\n",
              "    .dataframe tbody tr th:only-of-type {\n",
              "        vertical-align: middle;\n",
              "    }\n",
              "\n",
              "    .dataframe tbody tr th {\n",
              "        vertical-align: top;\n",
              "    }\n",
              "\n",
              "    .dataframe thead th {\n",
              "        text-align: right;\n",
              "    }\n",
              "</style>\n",
              "<table border=\"1\" class=\"dataframe\">\n",
              "  <thead>\n",
              "    <tr style=\"text-align: right;\">\n",
              "      <th></th>\n",
              "      <th>UKT</th>\n",
              "      <th>NILAI UKT</th>\n",
              "      <th>PENGHASILAN AYAH</th>\n",
              "      <th>PENGHASILAN IBU</th>\n",
              "      <th>TOTAL PENGHASILAN</th>\n",
              "      <th>Jumlah Anggota Keluarga (Ayah, Ibu dan Anak)</th>\n",
              "      <th>TOTAL PENGHASILAN/JUMLAH ANGGOTA KEL</th>\n",
              "      <th>STATUS AYAH</th>\n",
              "      <th>STATUS IBU</th>\n",
              "      <th>STATUS KIP</th>\n",
              "      <th>STATUS TDK MAMPU</th>\n",
              "      <th>STATUS KKS</th>\n",
              "    </tr>\n",
              "  </thead>\n",
              "  <tbody>\n",
              "    <tr>\n",
              "      <th>0</th>\n",
              "      <td>3.0</td>\n",
              "      <td>2400000.0</td>\n",
              "      <td>1500000</td>\n",
              "      <td>0</td>\n",
              "      <td>1500000</td>\n",
              "      <td>4.0</td>\n",
              "      <td>375000.0000</td>\n",
              "      <td>1</td>\n",
              "      <td>1</td>\n",
              "      <td>0</td>\n",
              "      <td>0</td>\n",
              "      <td>0</td>\n",
              "    </tr>\n",
              "    <tr>\n",
              "      <th>1</th>\n",
              "      <td>3.0</td>\n",
              "      <td>2400000.0</td>\n",
              "      <td>1000000</td>\n",
              "      <td>0</td>\n",
              "      <td>1000000</td>\n",
              "      <td>5.0</td>\n",
              "      <td>200000.0000</td>\n",
              "      <td>0</td>\n",
              "      <td>0</td>\n",
              "      <td>0</td>\n",
              "      <td>0</td>\n",
              "      <td>0</td>\n",
              "    </tr>\n",
              "    <tr>\n",
              "      <th>2</th>\n",
              "      <td>4.0</td>\n",
              "      <td>3600000.0</td>\n",
              "      <td>3500000</td>\n",
              "      <td>0</td>\n",
              "      <td>3500000</td>\n",
              "      <td>5.0</td>\n",
              "      <td>700000.0000</td>\n",
              "      <td>1</td>\n",
              "      <td>1</td>\n",
              "      <td>0</td>\n",
              "      <td>0</td>\n",
              "      <td>0</td>\n",
              "    </tr>\n",
              "    <tr>\n",
              "      <th>3</th>\n",
              "      <td>2.0</td>\n",
              "      <td>1825000.0</td>\n",
              "      <td>700000</td>\n",
              "      <td>0</td>\n",
              "      <td>700000</td>\n",
              "      <td>6.0</td>\n",
              "      <td>116666.6667</td>\n",
              "      <td>1</td>\n",
              "      <td>1</td>\n",
              "      <td>0</td>\n",
              "      <td>0</td>\n",
              "      <td>0</td>\n",
              "    </tr>\n",
              "    <tr>\n",
              "      <th>4</th>\n",
              "      <td>4.0</td>\n",
              "      <td>3200000.0</td>\n",
              "      <td>3000000</td>\n",
              "      <td>0</td>\n",
              "      <td>3000000</td>\n",
              "      <td>5.0</td>\n",
              "      <td>600000.0000</td>\n",
              "      <td>1</td>\n",
              "      <td>1</td>\n",
              "      <td>1</td>\n",
              "      <td>1</td>\n",
              "      <td>1</td>\n",
              "    </tr>\n",
              "    <tr>\n",
              "      <th>...</th>\n",
              "      <td>...</td>\n",
              "      <td>...</td>\n",
              "      <td>...</td>\n",
              "      <td>...</td>\n",
              "      <td>...</td>\n",
              "      <td>...</td>\n",
              "      <td>...</td>\n",
              "      <td>...</td>\n",
              "      <td>...</td>\n",
              "      <td>...</td>\n",
              "      <td>...</td>\n",
              "      <td>...</td>\n",
              "    </tr>\n",
              "    <tr>\n",
              "      <th>2151</th>\n",
              "      <td>3.0</td>\n",
              "      <td>1850000.0</td>\n",
              "      <td>3287360</td>\n",
              "      <td>0</td>\n",
              "      <td>3287360</td>\n",
              "      <td>5.0</td>\n",
              "      <td>657472.0000</td>\n",
              "      <td>1</td>\n",
              "      <td>1</td>\n",
              "      <td>0</td>\n",
              "      <td>0</td>\n",
              "      <td>0</td>\n",
              "    </tr>\n",
              "    <tr>\n",
              "      <th>2152</th>\n",
              "      <td>3.0</td>\n",
              "      <td>1850000.0</td>\n",
              "      <td>0</td>\n",
              "      <td>500000</td>\n",
              "      <td>500000</td>\n",
              "      <td>2.0</td>\n",
              "      <td>250000.0000</td>\n",
              "      <td>1</td>\n",
              "      <td>1</td>\n",
              "      <td>1</td>\n",
              "      <td>0</td>\n",
              "      <td>1</td>\n",
              "    </tr>\n",
              "    <tr>\n",
              "      <th>2153</th>\n",
              "      <td>3.0</td>\n",
              "      <td>1650000.0</td>\n",
              "      <td>1000000</td>\n",
              "      <td>0</td>\n",
              "      <td>1000000</td>\n",
              "      <td>3.0</td>\n",
              "      <td>333333.3333</td>\n",
              "      <td>1</td>\n",
              "      <td>1</td>\n",
              "      <td>1</td>\n",
              "      <td>0</td>\n",
              "      <td>1</td>\n",
              "    </tr>\n",
              "    <tr>\n",
              "      <th>2154</th>\n",
              "      <td>3.0</td>\n",
              "      <td>1850000.0</td>\n",
              "      <td>2000000</td>\n",
              "      <td>0</td>\n",
              "      <td>2000000</td>\n",
              "      <td>8.0</td>\n",
              "      <td>250000.0000</td>\n",
              "      <td>1</td>\n",
              "      <td>1</td>\n",
              "      <td>1</td>\n",
              "      <td>0</td>\n",
              "      <td>1</td>\n",
              "    </tr>\n",
              "    <tr>\n",
              "      <th>2155</th>\n",
              "      <td>4.0</td>\n",
              "      <td>3200000.0</td>\n",
              "      <td>0</td>\n",
              "      <td>0</td>\n",
              "      <td>0</td>\n",
              "      <td>3.0</td>\n",
              "      <td>0.0000</td>\n",
              "      <td>1</td>\n",
              "      <td>1</td>\n",
              "      <td>1</td>\n",
              "      <td>0</td>\n",
              "      <td>1</td>\n",
              "    </tr>\n",
              "  </tbody>\n",
              "</table>\n",
              "<p>2156 rows × 12 columns</p>\n",
              "</div>"
            ],
            "text/plain": [
              "      UKT  NILAI UKT  PENGHASILAN AYAH  PENGHASILAN IBU  TOTAL PENGHASILAN  \\\n",
              "0     3.0  2400000.0           1500000                0            1500000   \n",
              "1     3.0  2400000.0           1000000                0            1000000   \n",
              "2     4.0  3600000.0           3500000                0            3500000   \n",
              "3     2.0  1825000.0            700000                0             700000   \n",
              "4     4.0  3200000.0           3000000                0            3000000   \n",
              "...   ...        ...               ...              ...                ...   \n",
              "2151  3.0  1850000.0           3287360                0            3287360   \n",
              "2152  3.0  1850000.0                 0           500000             500000   \n",
              "2153  3.0  1650000.0           1000000                0            1000000   \n",
              "2154  3.0  1850000.0           2000000                0            2000000   \n",
              "2155  4.0  3200000.0                 0                0                  0   \n",
              "\n",
              "      Jumlah Anggota Keluarga (Ayah, Ibu dan Anak)  \\\n",
              "0                                              4.0   \n",
              "1                                              5.0   \n",
              "2                                              5.0   \n",
              "3                                              6.0   \n",
              "4                                              5.0   \n",
              "...                                            ...   \n",
              "2151                                           5.0   \n",
              "2152                                           2.0   \n",
              "2153                                           3.0   \n",
              "2154                                           8.0   \n",
              "2155                                           3.0   \n",
              "\n",
              "      TOTAL PENGHASILAN/JUMLAH ANGGOTA KEL  STATUS AYAH  STATUS IBU  \\\n",
              "0                              375000.0000            1           1   \n",
              "1                              200000.0000            0           0   \n",
              "2                              700000.0000            1           1   \n",
              "3                              116666.6667            1           1   \n",
              "4                              600000.0000            1           1   \n",
              "...                                    ...          ...         ...   \n",
              "2151                           657472.0000            1           1   \n",
              "2152                           250000.0000            1           1   \n",
              "2153                           333333.3333            1           1   \n",
              "2154                           250000.0000            1           1   \n",
              "2155                                0.0000            1           1   \n",
              "\n",
              "      STATUS KIP  STATUS TDK MAMPU  STATUS KKS  \n",
              "0              0                 0           0  \n",
              "1              0                 0           0  \n",
              "2              0                 0           0  \n",
              "3              0                 0           0  \n",
              "4              1                 1           1  \n",
              "...          ...               ...         ...  \n",
              "2151           0                 0           0  \n",
              "2152           1                 0           1  \n",
              "2153           1                 0           1  \n",
              "2154           1                 0           1  \n",
              "2155           1                 0           1  \n",
              "\n",
              "[2156 rows x 12 columns]"
            ]
          },
          "execution_count": 34,
          "metadata": {},
          "output_type": "execute_result"
        }
      ],
      "source": [
        "X_baru"
      ]
    },
    {
      "cell_type": "code",
      "execution_count": 35,
      "metadata": {},
      "outputs": [],
      "source": [
        "# membagi data set menggunakan sklearn\n",
        "X_train, X_test, y_train, y_test = train_test_split(X_baru, y_baru, test_size = 0.2, random_state = 25)"
      ]
    }
  ],
  "metadata": {
    "colab": {
      "provenance": []
    },
    "kernelspec": {
      "display_name": "Python 3.10.0 64-bit",
      "language": "python",
      "name": "python3"
    },
    "language_info": {
      "codemirror_mode": {
        "name": "ipython",
        "version": 3
      },
      "file_extension": ".py",
      "mimetype": "text/x-python",
      "name": "python",
      "nbconvert_exporter": "python",
      "pygments_lexer": "ipython3",
      "version": "3.10.0"
    },
    "vscode": {
      "interpreter": {
        "hash": "68ef5886dc0915938d6a35456ea8775afce48d9f374f32ed0ffd620d09a1db6b"
      }
    }
  },
  "nbformat": 4,
  "nbformat_minor": 0
}
